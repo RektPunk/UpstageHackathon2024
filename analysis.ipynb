{
 "cells": [
  {
   "cell_type": "code",
   "execution_count": 1,
   "metadata": {},
   "outputs": [],
   "source": [
    "import pandas as pd"
   ]
  },
  {
   "cell_type": "code",
   "execution_count": 2,
   "metadata": {},
   "outputs": [],
   "source": [
    "df = pd.read_csv(\"round1.csv\")"
   ]
  },
  {
   "cell_type": "code",
   "execution_count": 32,
   "metadata": {},
   "outputs": [
    {
     "name": "stdout",
     "output_type": "stream",
     "text": [
      "Python: 21\n",
      "FastAPI: 13\n",
      "Docker: 4\n",
      "JavaScript: 11\n",
      "GitHub: 9\n",
      "Flask: 6\n",
      "Streamlit: 8\n",
      "Predibase: 8\n",
      "HTML: 6\n",
      "Flutter: 6\n",
      "MongoDB: 5\n",
      "LangChain: 9\n",
      "RAG: 4\n",
      "TensorFlow: 4\n",
      "Nginx: 4\n",
      "Studio d-id: 4\n",
      "OpenAI API: 5\n",
      "Firebase: 4\n",
      "ChromaDB: 4\n"
     ]
    }
   ],
   "source": [
    "from collections import Counter\n",
    "import re\n",
    "\n",
    "# 주어진 기술 목록 문자열\n",
    "tech_list = \"\"\"\n",
    "Python, Gradio, FastAPI, Docker, VS Code, GCP, JavaScript, TypeScript, React, Vite, Chrome extension, Next.js, Turso, SQLite, Vercel, Git, pnpm, Flask, pandas, scikit-learn, joblib, werkzeug, Upstage API, GitHub, PyCharm, Jupyter Notebook, Streamlit, Predibase, HTML, CSS, Plotly, Dash, SQL, SQLite3, Flutter, Supabase, PostgreSQL, Deno, MongoDB, LangChain, Haystack, Groq, Tavily API, OpenFoodFacts API, BeautifulSoup, OCR, Chroma DB, RAG, FastAPI, Svelte.kit, Qdrant, Fastembed, ONNX, TensorFlow, PyTorch, Vue.js, Nginx, npm, JavaScript (jQuery, Bootstrap 5), AWS EC2, Lambda, Step Functions, DynamoDB, S3, Secret Manager, IAM, Cognito, CodePipeline, Redis Caching, TiDB OLTP Database, Uploadthing/S3 Bucket, Studio d-id, Predibase SDK, Google TTS, Apple Maps, Amadeus Travel API, GoogleFlights API, Mapbox API, Auth0, Multer, Axios, Chat API, Function Calling API, Document OCR API, Translation API, PyPDF2, python-docx, boto3, google-cloud-storage, multiprocessing, concurrent.futures, logging, loguru, GCP Secret Manager, OSMNX, NetworkX, Solar LLM, Naver API, Vworld API, English, LLM-API/Python/Pytorch/General, typescript, Svelte / Svelte Kit / Firebase / Google Cloud / Upstage / Pinecone / Cohere, Studio d-id, LangGraph, Huggingface, Google Maps API, OpenAI API, JavaScript, ReactJS, Vercel, Tailwind CSS, Shadcn components, Node.js, Express.js, MongoDB, Socket.io, Auth0, Amadeus Travel API, GoogleFlights API, Mapbox API, Upstage AI Chat API, Upstage AI Function Calling API, Upstage AI Document OCR API, Upstage AI Translation API, Multer, Axios, Qdrant, Fastembed, ONNX, CNN, LSTM, TensorFlow.js, RAG, LangChain, Haystack, Gradio, Groq, Upstage, Kotlin, Supabase, Firebase, Google Cloud, Pinecone, Cohere, Redis Caching, TiDB OLTP Database, Uploadthing/S3 Bucket, Google Colab, Hugging Face Spaces, API Compatibility Layer, Plotly, Dash, Google Drive API, Secret Manager, IAM, Cognito, CodePipeline, Upstage API (chat, OCR document, translation), Upstage API (Chat, Embeddings, Layout Analysis), Upstage API (Chat, Embeddings, Layout Analysis, Translation, Groundedness Check, Key Information Extraction), Upstage API (chat, OCR document, translation), Google TTS, TensorFlow.js, T3 Stack (NextJS, TRPC, Shadcn/UI, Typescript, NextAuth), Turborepo, Uploadthing/S3 Bucket, Predibase, Studio d-id, Svelte / Svelte Kit / Firebase / Google Cloud / Upstage / Pinecone / Cohere, Python 3.x, nltk, spacy, re, beautifulsoup4, PyPDF2, python-docx, pandas, transformers, tensorflow, pytorch, boto3, google-cloud-storage, logging, loguru, AWS S3, Google Cloud Storage, Git, Upstage API, Predibase API, Python, GitHub, PyCharm, VSCode, AWS EC2, Docker, FastAPI, Nginx, ChromaDB, Upstage API, Google API, KakaoTalk API, Langid, Python, LangChain, FastAPI, HTML, JavaScript, Solar API, OpenAI API, Python, JavaScript, Streamlit, Predibase, Jupyter Notebooks, TensorFlow, PyTorch, Flask, FastAPI, React, Upstage API, AWS, Azure, MongoDB, Git, Python, Dart, Flutter, Firebase, Python, LangChain, Streamlit, LangChain, Upstage API, Python, FastAPI, JavaScript, Svelte.kit, Qdrant, Fastembed, ONNX, Python, JavaScript, RAG, Finetuning, Streamlit, BeautifulSoup, Selenium, Chroma DB, EC2, Python, Langchain, Huggingface, Streamlit, Next JS, Flask, Langchain, CNN, LSTM, LLM, Google Colab, Node.js, TensorFlow, TensorFlow.js, Vue.js, JavaScript, FastAPI, Python, LangChain, Predibase, Upstage API, Docker, Nginx, npm, Python, GitHub, PyCharm, VSCode, AWS EC2, Docker, FastAPI, Nginx, ChromaDB, Upstage API, Google API, KakaoTalk API, Langid, Python, RAG, Dart, Flutter, Firebase, Langchain, Python, Svelte / Svelte Kit / Firebase / Google Cloud / Upstage / Pinecone / Cohere, Python, Git, GitHub, Visual Studio Code, Cursor, Streamlit, Upstage API (OCR, Layout Analysis, Solar LLM, Embedding, Groundedness Check), OpenAI API, Chroma DB, SQLite, Google Drive API, Flutter, Python, Microservices by Upstage, Flask, VSCode, Firebase, LlamaIndex, Groq, Tavily API, Wikipedia API, OSM, VisitJeju.com, fine-tuned Solar LLM, Predibase SDK, Upstage Translation API, Upstage GroundednessCheck API, Upstage Embeddings API, ChromaDB, FastAPI, PostgreSQL, NextJS, Swift, Apple Maps, Google TTS, Flutter (Dart), Express.js (Node.js, JavaScript), MongoDB, HTML, CSS, JavaScript, Flask, Python, Python, LangChain, FastAPI, HTML, JavaScript, Solar API, OpenAI API, Python, JavaScript, Streamlit, Predibase, Jupyter Notebooks, TensorFlow, PyTorch, Flask, FastAPI, React, Upstage API, AWS, Azure, MongoDB, Git, Python (Pandas), JavaScript (jQuery, Bootstrap 5), Lambda, Step Functions, DynamoDB, S3, Secret Manager, IAM, Cognito, CodePipeline, T3 Stack (NextJS, TRPC, Shadcn/UI, Typescript, NextAuth), Turborepo, Redis Caching, TiDB OLTP Database for Data storage, Uploadthing/S3 Bucket for file storage, Predibase, HTML, CSS, Vercel Deployment, Streamlit, Python, ChromaDB, FastAPI, Pydantic, LangChain, Predibase, Upstage API (Chat, Embeddings, Layout Analysis), fine-tuned SolarLLM, Translation, Groundedness Check, Key Information Extraction, 80 PDFs on tax deductions, 40 PDFs on tax return topics, niche tax PDFs/HTMLs, 3x Australian Tax Guides (3000-5000 pages each), 2.3 GB Hugging Face Australian legal corpus, Python, Predibase, Studio d-id, Python, LangChain, FastAPI, HTML, JavaScript, Solar API, OpenAI API\n",
    "\"\"\"\n",
    "\n",
    "# 정리된 기술 목록을 개수로 변환하는 함수\n",
    "def count_technologies(tech_list):\n",
    "    # 문자열에서 모든 기술을 추출\n",
    "    tech_list = tech_list.replace('\\n', ' ')\n",
    "    \n",
    "    tech_items = [item.strip() for item in tech_list.split(',')]\n",
    "    tech_items = [item if item != \"Git\" else \"GitHub\" for item in tech_items]\n",
    "    tech_items = [item if item != \"Dart\" else \"Flutter\" for item in tech_items]\n",
    "    tech_items = [item for item in tech_items if item not in [\"Solar API\", \"Upstage API\"]] \n",
    "    \n",
    "    # 기술의 개수를 세기\n",
    "    tech_counts = Counter([tech.strip() for tech in tech_items if tech.strip()])\n",
    "    \n",
    "    return tech_counts\n",
    "\n",
    "# 기술 목록을 개수로 변환\n",
    "tech_counts = count_technologies(tech_list)\n",
    "\n",
    "# 결과 출력\n",
    "for tech, count in tech_counts.items():\n",
    "    if count <= 3:\n",
    "        continue\n",
    "    print(f\"{tech}: {count}\")\n"
   ]
  },
  {
   "cell_type": "code",
   "execution_count": 37,
   "metadata": {},
   "outputs": [
    {
     "data": {
      "text/plain": [
       "61"
      ]
     },
     "execution_count": 37,
     "metadata": {},
     "output_type": "execute_result"
    }
   ],
   "source": [
    "df[\"Team Name\"].nunique()"
   ]
  },
  {
   "cell_type": "code",
   "execution_count": 38,
   "metadata": {},
   "outputs": [
    {
     "data": {
      "text/plain": [
       "Track\n",
       "Travel and Tourism            22\n",
       "Innovation(Etc topic)         18\n",
       "Healthcare & Wellness Tech     8\n",
       "Finance                        7\n",
       "Legal                          6\n",
       "Name: count, dtype: int64"
      ]
     },
     "execution_count": 38,
     "metadata": {},
     "output_type": "execute_result"
    }
   ],
   "source": [
    "df.drop_duplicates(\"Team Name\")[\"Track\"].value_counts()\n"
   ]
  },
  {
   "cell_type": "code",
   "execution_count": 8,
   "metadata": {},
   "outputs": [
    {
     "data": {
      "text/html": [
       "<div>\n",
       "<style scoped>\n",
       "    .dataframe tbody tr th:only-of-type {\n",
       "        vertical-align: middle;\n",
       "    }\n",
       "\n",
       "    .dataframe tbody tr th {\n",
       "        vertical-align: top;\n",
       "    }\n",
       "\n",
       "    .dataframe thead th {\n",
       "        text-align: right;\n",
       "    }\n",
       "</style>\n",
       "<table border=\"1\" class=\"dataframe\">\n",
       "  <thead>\n",
       "    <tr style=\"text-align: right;\">\n",
       "      <th></th>\n",
       "      <th>Track</th>\n",
       "      <th>Which Upstage API was primarily utilized?</th>\n",
       "      <th>Specify the technology stack used and how Upstage API was utilized.</th>\n",
       "      <th>Technologies used\\n(languages, development tools, frameworks, etc.)</th>\n",
       "    </tr>\n",
       "  </thead>\n",
       "  <tbody>\n",
       "    <tr>\n",
       "      <th>0</th>\n",
       "      <td>Legal</td>\n",
       "      <td>Chat, Translation, Groundedness Check, Layout ...</td>\n",
       "      <td>We use python and Upstage API to extract text ...</td>\n",
       "      <td>Python, Gradio, FastAPI, Docker, VS Code, (GCP...</td>\n",
       "    </tr>\n",
       "    <tr>\n",
       "      <th>1</th>\n",
       "      <td>Travel and Tourism</td>\n",
       "      <td>Chat</td>\n",
       "      <td>The UPSTAGE API is central to Travel Writer's ...</td>\n",
       "      <td>Frontend:\\n- Languages: JavaScript, TypeScript...</td>\n",
       "    </tr>\n",
       "    <tr>\n",
       "      <th>2</th>\n",
       "      <td>Innovation(Etc topic)</td>\n",
       "      <td>Chat, Layout Analysis</td>\n",
       "      <td>the Upstage API are used to analyze academic t...</td>\n",
       "      <td>python, flask, pandas, scikit-learn, joblib, w...</td>\n",
       "    </tr>\n",
       "    <tr>\n",
       "      <th>3</th>\n",
       "      <td>Travel and Tourism</td>\n",
       "      <td>Chat</td>\n",
       "      <td>Technology Stack:\\nFront-end: Streamlit - Util...</td>\n",
       "      <td>Language:\\nPython: The foundational programmin...</td>\n",
       "    </tr>\n",
       "    <tr>\n",
       "      <th>4</th>\n",
       "      <td>Travel and Tourism</td>\n",
       "      <td>Chat</td>\n",
       "      <td>Throughout the project, the frontend was coded...</td>\n",
       "      <td>HTML, CSS, Plotly, Dash, Flask, Python, SQL, S...</td>\n",
       "    </tr>\n",
       "    <tr>\n",
       "      <th>...</th>\n",
       "      <td>...</td>\n",
       "      <td>...</td>\n",
       "      <td>...</td>\n",
       "      <td>...</td>\n",
       "    </tr>\n",
       "    <tr>\n",
       "      <th>60</th>\n",
       "      <td>Travel and Tourism</td>\n",
       "      <td>Chat, Document OCR</td>\n",
       "      <td>The base-model we selected is solar-1-mini-cha...</td>\n",
       "      <td>We built Linestage as a web application with a...</td>\n",
       "    </tr>\n",
       "    <tr>\n",
       "      <th>61</th>\n",
       "      <td>Finance</td>\n",
       "      <td>Chat, Groundedness Check, Layout Analysis, Key...</td>\n",
       "      <td>Our team, Daechul.AI, leveraged Upstage API's ...</td>\n",
       "      <td>T3 Stack ( NextJS , TRPC, Shadcn/UI, Typescrip...</td>\n",
       "    </tr>\n",
       "    <tr>\n",
       "      <th>62</th>\n",
       "      <td>Finance</td>\n",
       "      <td>Chat, Embeddings, Layout Analysis, Key Informa...</td>\n",
       "      <td>View diagram in slides.\\n\\nFrontend/Landing Pa...</td>\n",
       "      <td>View diagram in slides.\\n\\nFrontend/Landing Pa...</td>\n",
       "    </tr>\n",
       "    <tr>\n",
       "      <th>63</th>\n",
       "      <td>Innovation(Etc topic)</td>\n",
       "      <td>Chat</td>\n",
       "      <td>Using the predibase API for learning reward m...</td>\n",
       "      <td>Python \\nPredibase\\nStudio d-id</td>\n",
       "    </tr>\n",
       "    <tr>\n",
       "      <th>64</th>\n",
       "      <td>Innovation(Etc topic)</td>\n",
       "      <td>Chat, Function calling, Embeddings, Groundedne...</td>\n",
       "      <td>### Technology Stack Used:\\n\\n1. **Upstage Doc...</td>\n",
       "      <td>1. Python\\n2. LangChain\\n3. FastAPI\\n4. HTML\\n...</td>\n",
       "    </tr>\n",
       "  </tbody>\n",
       "</table>\n",
       "<p>65 rows × 4 columns</p>\n",
       "</div>"
      ],
      "text/plain": [
       "                    Track          Which Upstage API was primarily utilized?  \\\n",
       "0                   Legal  Chat, Translation, Groundedness Check, Layout ...   \n",
       "1      Travel and Tourism                                               Chat   \n",
       "2   Innovation(Etc topic)                              Chat, Layout Analysis   \n",
       "3      Travel and Tourism                                               Chat   \n",
       "4      Travel and Tourism                                               Chat   \n",
       "..                    ...                                                ...   \n",
       "60     Travel and Tourism                                 Chat, Document OCR   \n",
       "61                Finance  Chat, Groundedness Check, Layout Analysis, Key...   \n",
       "62                Finance  Chat, Embeddings, Layout Analysis, Key Informa...   \n",
       "63  Innovation(Etc topic)                                               Chat   \n",
       "64  Innovation(Etc topic)  Chat, Function calling, Embeddings, Groundedne...   \n",
       "\n",
       "   Specify the technology stack used and how Upstage API was utilized.   \\\n",
       "0   We use python and Upstage API to extract text ...                     \n",
       "1   The UPSTAGE API is central to Travel Writer's ...                     \n",
       "2   the Upstage API are used to analyze academic t...                     \n",
       "3   Technology Stack:\\nFront-end: Streamlit - Util...                     \n",
       "4   Throughout the project, the frontend was coded...                     \n",
       "..                                                ...                     \n",
       "60  The base-model we selected is solar-1-mini-cha...                     \n",
       "61  Our team, Daechul.AI, leveraged Upstage API's ...                     \n",
       "62  View diagram in slides.\\n\\nFrontend/Landing Pa...                     \n",
       "63   Using the predibase API for learning reward m...                     \n",
       "64  ### Technology Stack Used:\\n\\n1. **Upstage Doc...                     \n",
       "\n",
       "   Technologies used\\n(languages, development tools, frameworks, etc.)  \n",
       "0   Python, Gradio, FastAPI, Docker, VS Code, (GCP...                   \n",
       "1   Frontend:\\n- Languages: JavaScript, TypeScript...                   \n",
       "2   python, flask, pandas, scikit-learn, joblib, w...                   \n",
       "3   Language:\\nPython: The foundational programmin...                   \n",
       "4   HTML, CSS, Plotly, Dash, Flask, Python, SQL, S...                   \n",
       "..                                                ...                   \n",
       "60  We built Linestage as a web application with a...                   \n",
       "61  T3 Stack ( NextJS , TRPC, Shadcn/UI, Typescrip...                   \n",
       "62  View diagram in slides.\\n\\nFrontend/Landing Pa...                   \n",
       "63                    Python \\nPredibase\\nStudio d-id                   \n",
       "64  1. Python\\n2. LangChain\\n3. FastAPI\\n4. HTML\\n...                   \n",
       "\n",
       "[65 rows x 4 columns]"
      ]
     },
     "execution_count": 8,
     "metadata": {},
     "output_type": "execute_result"
    }
   ],
   "source": [
    "df[[\n",
    "    \"Track\",\n",
    "    \"Which Upstage API was primarily utilized?\",\n",
    "    \"Specify the technology stack used and how Upstage API was utilized. \",\n",
    "    \"Technologies used\\n(languages, development tools, frameworks, etc.)\"\n",
    "]]"
   ]
  },
  {
   "cell_type": "code",
   "execution_count": null,
   "metadata": {},
   "outputs": [],
   "source": []
  }
 ],
 "metadata": {
  "kernelspec": {
   "display_name": "solar-report-RZNjUuAH-py3.12",
   "language": "python",
   "name": "python3"
  },
  "language_info": {
   "codemirror_mode": {
    "name": "ipython",
    "version": 3
   },
   "file_extension": ".py",
   "mimetype": "text/x-python",
   "name": "python",
   "nbconvert_exporter": "python",
   "pygments_lexer": "ipython3",
   "version": "3.12.4"
  }
 },
 "nbformat": 4,
 "nbformat_minor": 2
}
