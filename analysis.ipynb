{
 "cells": [
  {
   "cell_type": "code",
   "execution_count": 1,
   "metadata": {},
   "outputs": [],
   "source": [
    "import pandas as pd"
   ]
  },
  {
   "cell_type": "code",
   "execution_count": 2,
   "metadata": {},
   "outputs": [],
   "source": [
    "df = pd.read_csv(\"round1.csv\")"
   ]
  },
  {
   "cell_type": "code",
   "execution_count": 32,
   "metadata": {},
   "outputs": [
    {
     "name": "stdout",
     "output_type": "stream",
     "text": [
      "Python: 21\n",
      "FastAPI: 13\n",
      "Docker: 4\n",
      "JavaScript: 11\n",
      "GitHub: 9\n",
      "Flask: 6\n",
      "Streamlit: 8\n",
      "Predibase: 8\n",
      "HTML: 6\n",
      "Flutter: 6\n",
      "MongoDB: 5\n",
      "LangChain: 9\n",
      "RAG: 4\n",
      "TensorFlow: 4\n",
      "Nginx: 4\n",
      "Studio d-id: 4\n",
      "OpenAI API: 5\n",
      "Firebase: 4\n",
      "ChromaDB: 4\n"
     ]
    }
   ],
   "source": [
    "from collections import Counter\n",
    "import re\n",
    "\n",
    "# 주어진 기술 목록 문자열\n",
    "tech_list = \"\"\"\n",
    "Python, Gradio, FastAPI, Docker, VS Code, GCP, JavaScript, TypeScript, React, Vite, Chrome extension, Next.js, Turso, SQLite, Vercel, Git, pnpm, Flask, pandas, scikit-learn, joblib, werkzeug, Upstage API, GitHub, PyCharm, Jupyter Notebook, Streamlit, Predibase, HTML, CSS, Plotly, Dash, SQL, SQLite3, Flutter, Supabase, PostgreSQL, Deno, MongoDB, LangChain, Haystack, Groq, Tavily API, OpenFoodFacts API, BeautifulSoup, OCR, Chroma DB, RAG, FastAPI, Svelte.kit, Qdrant, Fastembed, ONNX, TensorFlow, PyTorch, Vue.js, Nginx, npm, JavaScript (jQuery, Bootstrap 5), AWS EC2, Lambda, Step Functions, DynamoDB, S3, Secret Manager, IAM, Cognito, CodePipeline, Redis Caching, TiDB OLTP Database, Uploadthing/S3 Bucket, Studio d-id, Predibase SDK, Google TTS, Apple Maps, Amadeus Travel API, GoogleFlights API, Mapbox API, Auth0, Multer, Axios, Chat API, Function Calling API, Document OCR API, Translation API, PyPDF2, python-docx, boto3, google-cloud-storage, multiprocessing, concurrent.futures, logging, loguru, GCP Secret Manager, OSMNX, NetworkX, Solar LLM, Naver API, Vworld API, English, LLM-API/Python/Pytorch/General, typescript, Svelte / Svelte Kit / Firebase / Google Cloud / Upstage / Pinecone / Cohere, Studio d-id, LangGraph, Huggingface, Google Maps API, OpenAI API, JavaScript, ReactJS, Vercel, Tailwind CSS, Shadcn components, Node.js, Express.js, MongoDB, Socket.io, Auth0, Amadeus Travel API, GoogleFlights API, Mapbox API, Upstage AI Chat API, Upstage AI Function Calling API, Upstage AI Document OCR API, Upstage AI Translation API, Multer, Axios, Qdrant, Fastembed, ONNX, CNN, LSTM, TensorFlow.js, RAG, LangChain, Haystack, Gradio, Groq, Upstage, Kotlin, Supabase, Firebase, Google Cloud, Pinecone, Cohere, Redis Caching, TiDB OLTP Database, Uploadthing/S3 Bucket, Google Colab, Hugging Face Spaces, API Compatibility Layer, Plotly, Dash, Google Drive API, Secret Manager, IAM, Cognito, CodePipeline, Upstage API (chat, OCR document, translation), Upstage API (Chat, Embeddings, Layout Analysis), Upstage API (Chat, Embeddings, Layout Analysis, Translation, Groundedness Check, Key Information Extraction), Upstage API (chat, OCR document, translation), Google TTS, TensorFlow.js, T3 Stack (NextJS, TRPC, Shadcn/UI, Typescript, NextAuth), Turborepo, Uploadthing/S3 Bucket, Predibase, Studio d-id, Svelte / Svelte Kit / Firebase / Google Cloud / Upstage / Pinecone / Cohere, Python 3.x, nltk, spacy, re, beautifulsoup4, PyPDF2, python-docx, pandas, transformers, tensorflow, pytorch, boto3, google-cloud-storage, logging, loguru, AWS S3, Google Cloud Storage, Git, Upstage API, Predibase API, Python, GitHub, PyCharm, VSCode, AWS EC2, Docker, FastAPI, Nginx, ChromaDB, Upstage API, Google API, KakaoTalk API, Langid, Python, LangChain, FastAPI, HTML, JavaScript, Solar API, OpenAI API, Python, JavaScript, Streamlit, Predibase, Jupyter Notebooks, TensorFlow, PyTorch, Flask, FastAPI, React, Upstage API, AWS, Azure, MongoDB, Git, Python, Dart, Flutter, Firebase, Python, LangChain, Streamlit, LangChain, Upstage API, Python, FastAPI, JavaScript, Svelte.kit, Qdrant, Fastembed, ONNX, Python, JavaScript, RAG, Finetuning, Streamlit, BeautifulSoup, Selenium, Chroma DB, EC2, Python, Langchain, Huggingface, Streamlit, Next JS, Flask, Langchain, CNN, LSTM, LLM, Google Colab, Node.js, TensorFlow, TensorFlow.js, Vue.js, JavaScript, FastAPI, Python, LangChain, Predibase, Upstage API, Docker, Nginx, npm, Python, GitHub, PyCharm, VSCode, AWS EC2, Docker, FastAPI, Nginx, ChromaDB, Upstage API, Google API, KakaoTalk API, Langid, Python, RAG, Dart, Flutter, Firebase, Langchain, Python, Svelte / Svelte Kit / Firebase / Google Cloud / Upstage / Pinecone / Cohere, Python, Git, GitHub, Visual Studio Code, Cursor, Streamlit, Upstage API (OCR, Layout Analysis, Solar LLM, Embedding, Groundedness Check), OpenAI API, Chroma DB, SQLite, Google Drive API, Flutter, Python, Microservices by Upstage, Flask, VSCode, Firebase, LlamaIndex, Groq, Tavily API, Wikipedia API, OSM, VisitJeju.com, fine-tuned Solar LLM, Predibase SDK, Upstage Translation API, Upstage GroundednessCheck API, Upstage Embeddings API, ChromaDB, FastAPI, PostgreSQL, NextJS, Swift, Apple Maps, Google TTS, Flutter (Dart), Express.js (Node.js, JavaScript), MongoDB, HTML, CSS, JavaScript, Flask, Python, Python, LangChain, FastAPI, HTML, JavaScript, Solar API, OpenAI API, Python, JavaScript, Streamlit, Predibase, Jupyter Notebooks, TensorFlow, PyTorch, Flask, FastAPI, React, Upstage API, AWS, Azure, MongoDB, Git, Python (Pandas), JavaScript (jQuery, Bootstrap 5), Lambda, Step Functions, DynamoDB, S3, Secret Manager, IAM, Cognito, CodePipeline, T3 Stack (NextJS, TRPC, Shadcn/UI, Typescript, NextAuth), Turborepo, Redis Caching, TiDB OLTP Database for Data storage, Uploadthing/S3 Bucket for file storage, Predibase, HTML, CSS, Vercel Deployment, Streamlit, Python, ChromaDB, FastAPI, Pydantic, LangChain, Predibase, Upstage API (Chat, Embeddings, Layout Analysis), fine-tuned SolarLLM, Translation, Groundedness Check, Key Information Extraction, 80 PDFs on tax deductions, 40 PDFs on tax return topics, niche tax PDFs/HTMLs, 3x Australian Tax Guides (3000-5000 pages each), 2.3 GB Hugging Face Australian legal corpus, Python, Predibase, Studio d-id, Python, LangChain, FastAPI, HTML, JavaScript, Solar API, OpenAI API\n",
    "\"\"\"\n",
    "\n",
    "# 정리된 기술 목록을 개수로 변환하는 함수\n",
    "def count_technologies(tech_list):\n",
    "    # 문자열에서 모든 기술을 추출\n",
    "    tech_list = tech_list.replace('\\n', ' ')\n",
    "    \n",
    "    tech_items = [item.strip() for item in tech_list.split(',')]\n",
    "    tech_items = [item if item != \"Git\" else \"GitHub\" for item in tech_items]\n",
    "    tech_items = [item if item != \"Dart\" else \"Flutter\" for item in tech_items]\n",
    "    tech_items = [item for item in tech_items if item not in [\"Solar API\", \"Upstage API\"]] \n",
    "    \n",
    "    # 기술의 개수를 세기\n",
    "    tech_counts = Counter([tech.strip() for tech in tech_items if tech.strip()])\n",
    "    \n",
    "    return tech_counts\n",
    "\n",
    "# 기술 목록을 개수로 변환\n",
    "tech_counts = count_technologies(tech_list)\n",
    "\n",
    "# 결과 출력\n",
    "for tech, count in tech_counts.items():\n",
    "    if count <= 3:\n",
    "        continue\n",
    "    print(f\"{tech}: {count}\")\n"
   ]
  },
  {
   "cell_type": "code",
   "execution_count": 40,
   "metadata": {},
   "outputs": [
    {
     "data": {
      "text/plain": [
       "Index(['Timestamp', 'Email Address', 'Team Name', '(Team Leader) First Name',\n",
       "       '(Team Leader) Last Name', '(Team Leader) Email Address',\n",
       "       '(Team Leader) Phone number', '(Team Leader) Upstage Console - Email',\n",
       "       'Discord ID', 'Your Linkedin Profile',\n",
       "       'Team (list of names & e-mails, role, affiliated agency, Upstage Console - Email)',\n",
       "       'Track', 'Product/Project Name',\n",
       "       'Please provide a one-sentence summary of the project.',\n",
       "       'Describe the development objectives of the project/product.',\n",
       "       'Explain the project/product.', 'Project GitHub Repository (link)',\n",
       "       'Please upload your product presentation deck(~10pages, PDF/PPT)',\n",
       "       'Please upload the product demonstration video. (2~5m)',\n",
       "       'Which Upstage API was primarily utilized?',\n",
       "       'Specify the technology stack used and how Upstage API was utilized. ',\n",
       "       'Technologies used\\n(languages, development tools, frameworks, etc.)',\n",
       "       'Please write a review of the technical tool used above.',\n",
       "       'Which features did you use during the hackathon? (Upstage API)',\n",
       "       'What need are you solving by building with Upstage’s LLM/API? ',\n",
       "       'Please elaborate on the specific steps you took to fine-tune and utilize our LLM features for your use case.',\n",
       "       'What challenges did you face while implementing Upstage API in your work? How did you overcome those obstacles?',\n",
       "       'How are you using Upstage API/LLM features in your work today?',\n",
       "       'What's the tangible, real-world impact resulting from your use of our LLM? Why should our users be excited and care about this use case?',\n",
       "       'Have you released any technical artifacts in support of your work (papers, models, datasets, etc.)? If so, please provide links and details here.',\n",
       "       'What are you looking forward from our full stack LLM for your work?',\n",
       "       'Could you please introduce your team members and work experiences, along with any other details you would like to share?',\n",
       "       '[Note] 📢 Social Media Posting Guidelines\\n\\nPlease share your experiences from the hackathon on LinkedIn and X, mentioning Upstage and including the hashtags listed below.\\n\\n➡️Mention\\nX: @upstageai Linkedin: @Upstage\\n\\n➡️Hashtag\\n#Upstage #AI #SolarLLM #Hackathon \\n\\n➡️Suggested Post Structure\\n(1) Name of the Hackathon (Global AI Week - AI Hackathon)\\n(2) Summary:\\n- Highlights on problem-solving or developing AI applications. \\n- Utilization of Solar LLM's features during the hackathon. \\n- How to fine-tune and leverage the benefits of Solar LLM's capabilities. \\n(3) A brief reflection on the user experience with the full-stack LLM Solar \\n(4) Photographs from the hackathon ',\n",
       "       'Consent to Collection and Use of Personal Information Learn more\\nDo you agree to the collection and use of your personal information? (Required)\\nYou have the right to refuse consent to the collection and use of your personal information. However, if you refuse consent, you may face limitations in the smooth use of the hackathon services.',\n",
       "       'I agree with the Submission Agreement. Learn more',\n",
       "       'Are you available to participate in the online presentation on August 24th from 9:00 AM to 12:00 PM (KST)?\\n\\n(📌The candidates for Round 2 online presentations will be contacted individually on August 22nd and 23rd.)'],\n",
       "      dtype='object')"
      ]
     },
     "execution_count": 40,
     "metadata": {},
     "output_type": "execute_result"
    }
   ],
   "source": [
    "df.columns"
   ]
  },
  {
   "cell_type": "code",
   "execution_count": 42,
   "metadata": {},
   "outputs": [
    {
     "data": {
      "text/plain": [
       "0     Chat, Translation, Groundedness Check, Layout ...\n",
       "1                                                  Chat\n",
       "2                                 Chat, Layout Analysis\n",
       "3                                                  Chat\n",
       "4                                                  Chat\n",
       "                            ...                        \n",
       "60                                   Chat, Document OCR\n",
       "61    Chat, Groundedness Check, Layout Analysis, Key...\n",
       "62    Chat, Embeddings, Layout Analysis, Key Informa...\n",
       "63                                                 Chat\n",
       "64    Chat, Function calling, Embeddings, Groundedne...\n",
       "Name: Which Upstage API was primarily utilized?, Length: 65, dtype: object"
      ]
     },
     "execution_count": 42,
     "metadata": {},
     "output_type": "execute_result"
    }
   ],
   "source": [
    "df[\"Which Upstage API was primarily utilized?\"]"
   ]
  },
  {
   "cell_type": "code",
   "execution_count": 43,
   "metadata": {},
   "outputs": [],
   "source": [
    "df_dedup = df.drop_duplicates(\"Team Name\")\n"
   ]
  },
  {
   "cell_type": "code",
   "execution_count": 47,
   "metadata": {},
   "outputs": [],
   "source": [
    "tags_split = df_dedup[\"Which Upstage API was primarily utilized?\"].str.split(',')\n",
    "\n",
    "# 리스트의 값을 데이터프레임으로 변환하고, 해당 값을 One-Hot Encoding\n",
    "tags_encoded = tags_split.str.join('|').str.get_dummies()"
   ]
  },
  {
   "cell_type": "code",
   "execution_count": 51,
   "metadata": {},
   "outputs": [],
   "source": [
    "kk = pd.concat([df_dedup[\"Track\"], tags_encoded], axis = 1)"
   ]
  },
  {
   "cell_type": "code",
   "execution_count": 65,
   "metadata": {},
   "outputs": [
    {
     "data": {
      "text/plain": [
       " Document OCR                  4\n",
       " Embeddings                    2\n",
       " Function calling              1\n",
       " Groundedness Check            2\n",
       " Key Information Extraction    0\n",
       " Layout Analysis               2\n",
       " Translation                   1\n",
       "Chat                           5\n",
       "Document OCR                   0\n",
       "Layout Analysis                1\n",
       "dtype: int64"
      ]
     },
     "execution_count": 65,
     "metadata": {},
     "output_type": "execute_result"
    }
   ],
   "source": [
    "kk.loc[kk[\"Track\"] == \"Legal\"][tags_encoded.columns].sum(axis = 0)"
   ]
  },
  {
   "cell_type": "code",
   "execution_count": 60,
   "metadata": {},
   "outputs": [
    {
     "data": {
      "text/plain": [
       "array(['Legal', 'Travel and Tourism', 'Innovation(Etc topic)',\n",
       "       'Healthcare & Wellness Tech', 'Finance'], dtype=object)"
      ]
     },
     "execution_count": 60,
     "metadata": {},
     "output_type": "execute_result"
    }
   ],
   "source": [
    "kk[\"Track\"].unique()"
   ]
  },
  {
   "cell_type": "code",
   "execution_count": null,
   "metadata": {},
   "outputs": [],
   "source": []
  }
 ],
 "metadata": {
  "kernelspec": {
   "display_name": "solar-report-RZNjUuAH-py3.12",
   "language": "python",
   "name": "python3"
  },
  "language_info": {
   "codemirror_mode": {
    "name": "ipython",
    "version": 3
   },
   "file_extension": ".py",
   "mimetype": "text/x-python",
   "name": "python",
   "nbconvert_exporter": "python",
   "pygments_lexer": "ipython3",
   "version": "3.12.4"
  }
 },
 "nbformat": 4,
 "nbformat_minor": 2
}
